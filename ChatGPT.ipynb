{
  "cells": [
    {
      "cell_type": "markdown",
      "metadata": {
        "id": "view-in-github",
        "colab_type": "text"
      },
      "source": [
        "<a href=\"https://colab.research.google.com/github/jh941213/ChatGPT/blob/main/ChatGPT.ipynb\" target=\"_parent\"><img src=\"https://colab.research.google.com/assets/colab-badge.svg\" alt=\"Open In Colab\"/></a>"
      ]
    },
    {
      "cell_type": "code",
      "source": [
        "from sklearn.feature_extraction.text import TfidfVectorizer\n",
        "from sklearn.svm import LinearSVC\n",
        "from sklearn.metrics import accuracy_score\n",
        "import pandas as pd\n",
        "\n",
        "# Load the training data\n",
        "train_df = pd.read_csv(\"train.csv\")\n",
        "\n",
        "# Extract the text and labels from the training data\n",
        "train_text = train_df['text']\n",
        "train_labels = train_df['label']\n",
        "\n",
        "# Vectorize the text data using TF-IDF\n",
        "vectorizer = TfidfVectorizer()\n",
        "train_vectors = vectorizer.fit_transform(train_text)\n",
        "\n",
        "# Train a LinearSVM model\n",
        "svm_model = LinearSVC()\n",
        "svm_model.fit(train_vectors, train_labels)\n",
        "\n",
        "# Load the test data\n",
        "test_df = pd.read_csv(\"test.csv\")\n",
        "\n",
        "# Extract the text from the test data\n",
        "test_text = test_df['text']\n",
        "\n",
        "# Vectorize the test data using the same TF-IDF vectorizer\n",
        "test_vectors = vectorizer.transform(test_text)\n",
        "\n",
        "# Make predictions on the test data using the trained LinearSVM model\n",
        "test_predictions = svm_model.predict(test_vectors)\n",
        "\n",
        "# Create a submission file in the specified format\n",
        "submission_df = pd.DataFrame({'id': test_df['id'], 'label': test_predictions})\n",
        "submission_df.to_csv(\"submission.csv\", index=False)\n"
      ],
      "metadata": {
        "id": "A8kM5ivPr9eI"
      },
      "execution_count": null,
      "outputs": []
    },
    {
      "cell_type": "code",
      "source": [],
      "metadata": {
        "id": "1EN9dkhnr9g5"
      },
      "execution_count": null,
      "outputs": []
    },
    {
      "cell_type": "code",
      "source": [],
      "metadata": {
        "id": "Ij6yPuj4r9jf"
      },
      "execution_count": null,
      "outputs": []
    },
    {
      "cell_type": "code",
      "source": [],
      "metadata": {
        "id": "JVNjkl5mr9l1"
      },
      "execution_count": null,
      "outputs": []
    }
  ],
  "metadata": {
    "accelerator": "GPU",
    "colab": {
      "provenance": [],
      "machine_shape": "hm",
      "mount_file_id": "1KW49JOecCP4TpHwjH2prXdptI-hPJX6m",
      "authorship_tag": "ABX9TyNqXSedbf3u6gYHCukFWJRi",
      "include_colab_link": true
    },
    "gpuClass": "standard",
    "kernelspec": {
      "display_name": "Python 3",
      "name": "python3"
    },
    "language_info": {
      "name": "python"
    }
  },
  "nbformat": 4,
  "nbformat_minor": 0
}